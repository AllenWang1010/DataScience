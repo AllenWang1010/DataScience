{
 "cells": [
  {
   "cell_type": "code",
   "execution_count": 1,
   "metadata": {},
   "outputs": [],
   "source": [
    "import matplotlib.pyplot as plt\n",
    "import numpy as np\n",
    "import pandas as pd\n",
    "from scipy import stats\n",
    "import math\n",
    "import statistics\n",
    "import seaborn as sns"
   ]
  },
  {
   "cell_type": "code",
   "execution_count": 2,
   "metadata": {},
   "outputs": [],
   "source": [
    "boys = [164, 176, 169, 169, 165, 175, 159, 151, 144, 160, 183, 165, 156, 170, \n",
    "        164, 173, 165, 163, 177, 171]\n",
    "\n",
    "girls = [169, 183, 170, 168, 182, 170, 173, 185, 151, 156, 162, 169, 162, 181, \n",
    "         159, 154, 167, 175, 170, 160] "
   ]
  },
  {
   "cell_type": "code",
   "execution_count": 3,
   "metadata": {},
   "outputs": [],
   "source": [
    "def stat(h, sex=''):\n",
    "    mean = np.mean(h)\n",
    "    stat_mean = statistics.mean(h)\n",
    "    \n",
    "    median = np.median(h)\n",
    "    stat_median = statistics.median(h)\n",
    "    \n",
    "    mode = stats.mode(h)\n",
    "    \n",
    "    rangeV = max(h) - min(h)\n",
    "    \n",
    "    var = np.var(h)\n",
    "    stat_var = statistics.variance(h)\n",
    "    \n",
    "    std = np.std(h)\n",
    "    stat_std = statistics.stdev(h)\n",
    "    \n",
    "    skew = stats.skew(h)\n",
    "    kurtosis = stats.kurtosis(h)\n",
    "    \n",
    "    print(f'{sex}身高平均 =', mean)\n",
    "    print(f'{sex}身高統計平均 =', stat_mean)\n",
    "    \n",
    "    print(f'{sex}身高中位數 =', median)\n",
    "    print(f'{sex}身高統計中位數 =', stat_median)\n",
    "    \n",
    "    print(f'{sex}身高眾數 =', mode)\n",
    "    \n",
    "    print(f'{sex}身高全距 =', rangeV)\n",
    "    \n",
    "    print(f'{sex}身高標準差 =', std)\n",
    "    print(f'{sex}身高統計標準差 =', stat_std)\n",
    "    \n",
    "    print(f'{sex}身高平均 =', mean)\n",
    "    print(f'{sex}身高統計平均 =', stat_mean)\n",
    "    \n",
    "    print(f'{sex}身高峰值 =', skew)\n",
    "    print(f'{sex}身高偏度 =', kurtosis)\n",
    "    \n",
    "    plt.hist(h, bins=40)\n",
    "    plt.title(f'{sex}, skewness={round(skew, 2)}, kurtosis={round(kurtosis, 2)}')\n",
    "    plt.axvline(mean)\n",
    "    plt.show()"
   ]
  },
  {
   "cell_type": "code",
   "execution_count": 4,
   "metadata": {},
   "outputs": [
    {
     "name": "stdout",
     "output_type": "stream",
     "text": [
      "boys身高平均 = 165.95\n",
      "boys身高統計平均 = 165.95\n",
      "boys身高中位數 = 165.0\n",
      "boys身高統計中位數 = 165.0\n",
      "boys身高眾數 = ModeResult(mode=array([165]), count=array([3]))\n",
      "boys身高全距 = 39\n",
      "boys身高標準差 = 8.980395314238677\n",
      "boys身高統計標準差 = 9.213691185575838\n",
      "boys身高平均 = 165.95\n",
      "boys身高統計平均 = 165.95\n",
      "boys身高峰值 = -0.47132127317376954\n",
      "boys身高偏度 = 0.19395882957876331\n"
     ]
    },
    {
     "data": {
      "image/png": "[encoded data removed]",
      "text/plain": [
       "<Figure size 432x288 with 1 Axes>"
      ]
     },
     "metadata": {
      "needs_background": "light"
     },
     "output_type": "display_data"
    }
   ],
   "source": [
    "stat(boys, 'boys')"
   ]
  },
  {
   "cell_type": "code",
   "execution_count": 5,
   "metadata": {},
   "outputs": [
    {
     "name": "stdout",
     "output_type": "stream",
     "text": [
      "girls身高平均 = 168.3\n",
      "girls身高統計平均 = 168.3\n",
      "girls身高中位數 = 169.0\n",
      "girls身高統計中位數 = 169.0\n",
      "girls身高眾數 = ModeResult(mode=array([170]), count=array([3]))\n",
      "girls身高全距 = 34\n",
      "girls身高標準差 = 9.51892851112981\n",
      "girls身高統計標準差 = 9.766214587465353\n",
      "girls身高平均 = 168.3\n",
      "girls身高統計平均 = 168.3\n",
      "girls身高峰值 = 0.05985321129365068\n",
      "girls身高偏度 = -0.8203607083948947\n"
     ]
    },
    {
     "data": {
      "image/png": "[encoded data removed]",
      "text/plain": [
       "<Figure size 432x288 with 1 Axes>"
      ]
     },
     "metadata": {
      "needs_background": "light"
     },
     "output_type": "display_data"
    }
   ],
   "source": [
    "stat(girls, 'girls')"
   ]
  },
  {
   "cell_type": "code",
   "execution_count": 6,
   "metadata": {},
   "outputs": [],
   "source": [
    "#女生的平均身高較高"
   ]
  },
  {
   "cell_type": "code",
   "execution_count": 7,
   "metadata": {},
   "outputs": [],
   "source": [
    "#不一致，我認為是因為樣本數過少"
   ]
  },
  {
   "cell_type": "code",
   "execution_count": null,
   "metadata": {},
   "outputs": [],
   "source": []
  }
 ],
 "metadata": {
  "kernelspec": {
   "display_name": "Python 3",
   "language": "python",
   "name": "python3"
  },
  "language_info": {
   "codemirror_mode": {
    "name": "ipython",
    "version": 3
   },
   "file_extension": ".py",
   "mimetype": "text/x-python",
   "name": "python",
   "nbconvert_exporter": "python",
   "pygments_lexer": "ipython3",
   "version": "3.7.9"
  }
 },
 "nbformat": 4,
 "nbformat_minor": 4
}
